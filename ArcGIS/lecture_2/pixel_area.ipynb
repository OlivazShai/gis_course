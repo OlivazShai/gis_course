{
 "cells": [
  {
   "cell_type": "code",
   "execution_count": 1,
   "metadata": {},
   "outputs": [
    {
     "data": {
      "text/plain": [
       "0.8547966714295331"
      ]
     },
     "execution_count": 1,
     "metadata": {},
     "output_type": "execute_result"
    }
   ],
   "source": [
    "from __future__ import print_function\n",
    "from ipywidgets import interactive\n",
    "import math\n",
    "import matplotlib.pyplot as plt\n",
    "import numpy as np\n",
    "%matplotlib inline\n",
    "\n",
    "def area_of_pixel(pixel_size, center_lat):\n",
    "    \"\"\"Calculate m^2 area of a wgs84 square pixel.\n",
    "\n",
    "    Adapted from: https://gis.stackexchange.com/a/127327/2397\n",
    "\n",
    "    Parameters:\n",
    "        pixel_size (float): length of side of pixel in degrees.\n",
    "        center_lat (float): latitude of the center of the pixel. Note this\n",
    "            value +/- half the `pixel-size` must not exceed 90/-90 degrees\n",
    "            latitude or an invalid area will be calculated.\n",
    "\n",
    "    Returns:\n",
    "        Area of square pixel of side length `pixel_size` centered at\n",
    "        `center_lat` in km^2.\n",
    "        \n",
    "    posted in https://gis.stackexchange.com/questions/127165/\n",
    "    \n",
    "    \"\"\"\n",
    "    a = 6378137  # meters\n",
    "    b = 6356752.3142  # meters\n",
    "    e = math.sqrt(1 - (b/a)**2)\n",
    "    area_list = []\n",
    "    for f in [center_lat+pixel_size/2, center_lat-pixel_size/2]:\n",
    "        zm = 1 - e*np.sin(np.radians(f))\n",
    "        zp = 1 + e*np.sin(np.radians(f))\n",
    "        area_list.append(\n",
    "            math.pi * b**2 * (\n",
    "                np.log(zp/zm) / (2*e) +\n",
    "                np.sin(np.radians(f)) / (zp*zm)))\n",
    "    return (pixel_size / 360. * (area_list[0] - area_list[1]))/(10**6)\n",
    "\n",
    "\n",
    "area_of_pixel(1/120, 0)"
   ]
  },
  {
   "cell_type": "code",
   "execution_count": 2,
   "metadata": {},
   "outputs": [
    {
     "data": {
      "image/png": "[encoded data removed]",
      "text/plain": [
       "<Figure size 432x288 with 1 Axes>"
      ]
     },
     "metadata": {
      "needs_background": "light"
     },
     "output_type": "display_data"
    }
   ],
   "source": [
    "def pixplot(size):\n",
    "    plt.figure(2)\n",
    "    lat = np.linspace(0,90, num = 100)\n",
    "    \n",
    "    plt.plot(lat, area_of_pixel(size, lat))\n",
    "    plt.ylim(0, 1)\n",
    "    plt.xlabel('degree latitude')\n",
    "    plt.ylabel('pixel area in in square kilometers')\n",
    "    plt.show()\n",
    "\n",
    "     \n",
    "pixplot(1/120)"
   ]
  },
  {
   "cell_type": "code",
   "execution_count": 3,
   "metadata": {},
   "outputs": [
    {
     "data": {
      "application/vnd.jupyter.widget-view+json": {
       "model_id": "e108016136ea4f7eb6096a3675ff501c",
       "version_major": 2,
       "version_minor": 0
      },
      "text/plain": [
       "interactive(children=(FloatSlider(value=0.041666666666666664, description='size', max=0.08333333333333333, min…"
      ]
     },
     "metadata": {},
     "output_type": "display_data"
    }
   ],
   "source": [
    "interactive_plot = interactive(pixplot, size=(1/120, 1/12, 1/120))\n",
    "interactive_plot"
   ]
  },
  {
   "cell_type": "code",
   "execution_count": null,
   "metadata": {},
   "outputs": [],
   "source": []
  }
 ],
 "metadata": {
  "kernelspec": {
   "display_name": "Python 3",
   "language": "python",
   "name": "python3"
  },
  "language_info": {
   "codemirror_mode": {
    "name": "ipython",
    "version": 3
   },
   "file_extension": ".py",
   "mimetype": "text/x-python",
   "name": "python",
   "nbconvert_exporter": "python",
   "pygments_lexer": "ipython3",
   "version": "3.7.3"
  }
 },
 "nbformat": 4,
 "nbformat_minor": 2
}
