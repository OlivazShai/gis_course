{
 "cells": [
  {
   "cell_type": "markdown",
   "id": "a161d270-192a-4e0d-abfd-c0bc113113e5",
   "metadata": {},
   "source": [
    "# 1 Basic python\n",
    "\n",
    "## 1.1 How to insert two (or $N$) things into a string?"
   ]
  },
  {
   "cell_type": "code",
   "execution_count": 1,
   "id": "82dca819-43c7-47ab-a2d9-fbb99d7a8c5d",
   "metadata": {},
   "outputs": [],
   "source": [
    "x = 'hello'\n",
    "y = 2"
   ]
  },
  {
   "cell_type": "code",
   "execution_count": 2,
   "id": "40840a98-89f3-4f56-98bd-6f9f540b3ad1",
   "metadata": {},
   "outputs": [
    {
     "data": {
      "text/plain": [
       "'a string hello with two 2 insertions'"
      ]
     },
     "execution_count": 2,
     "metadata": {},
     "output_type": "execute_result"
    }
   ],
   "source": [
    "s1 = 'a string %s with two %d insertions' % (x, y)\n",
    "s1"
   ]
  },
  {
   "cell_type": "code",
   "execution_count": 3,
   "id": "ea5e8bcd-146a-46b6-a155-2336274bc005",
   "metadata": {},
   "outputs": [
    {
     "data": {
      "text/plain": [
       "'a string hello with two 2 insertions'"
      ]
     },
     "execution_count": 3,
     "metadata": {},
     "output_type": "execute_result"
    }
   ],
   "source": [
    "s2 = 'a string {} with two {} insertions'.format(x, y)\n",
    "s2"
   ]
  },
  {
   "cell_type": "code",
   "execution_count": 4,
   "id": "5622a46a-e7ad-470c-b83f-fadb26f82f28",
   "metadata": {},
   "outputs": [
    {
     "data": {
      "text/plain": [
       "'a string hello with two 2 insertions'"
      ]
     },
     "execution_count": 4,
     "metadata": {},
     "output_type": "execute_result"
    }
   ],
   "source": [
    "s3 = f'a string {x} with two {y} insertions'\n",
    "s3"
   ]
  },
  {
   "cell_type": "markdown",
   "id": "78096e70-97d9-4221-a478-b91901e32606",
   "metadata": {},
   "source": [
    "# 2 Shapely\n",
    "\n",
    "## 2.1 How to display two things at once"
   ]
  },
  {
   "cell_type": "code",
   "execution_count": 5,
   "id": "19ba9176-9168-4ac0-8702-4d7b66e74539",
   "metadata": {},
   "outputs": [],
   "source": [
    "from shapely.geometry import Point, LineString, Polygon"
   ]
  },
  {
   "cell_type": "code",
   "execution_count": 6,
   "id": "042a2719-ad20-4c7d-970b-f24f57da3088",
   "metadata": {},
   "outputs": [],
   "source": [
    "p = Point(0, 0)\n",
    "p1 = Point(1, 1)\n",
    "p2 = Point(2, 3)\n",
    "p3 = Point(4, -2)\n",
    "circle = p.buffer(1.0)\n",
    "line = LineString([p1, p2, p3])\n",
    "rectangle = Polygon([(-2,-2), (2, -2), (2, 0), (-2, 0)])"
   ]
  },
  {
   "cell_type": "code",
   "execution_count": 7,
   "id": "8b8ebca2-fe3e-49fa-b850-fde815a2e69e",
   "metadata": {},
   "outputs": [
    {
     "data": {
      "image/svg+xml": [
       "<svg xmlns=\"http://www.w3.org/2000/svg\" xmlns:xlink=\"http://www.w3.org/1999/xlink\" width=\"100.0\" height=\"100.0\" viewBox=\"-2.24 -2.24 6.48 5.48\" preserveAspectRatio=\"xMinYMin meet\"><g transform=\"matrix(1,0,0,-1,0,1.0)\"><g><path fill-rule=\"evenodd\" fill=\"#66cc99\" stroke=\"#555555\" stroke-width=\"0.12960000000000002\" opacity=\"0.6\" d=\"M -2.0,0.0 L 2.0,0.0 L 2.0,-2.0 L -2.0,-2.0 L -2.0,0.0 z\" /><polyline fill=\"none\" stroke=\"#66cc99\" stroke-width=\"0.12960000000000002\" points=\"1.0,1.0 2.0,3.0 4.0,-2.0\" opacity=\"0.8\" /></g></g></svg>"
      ],
      "text/plain": [
       "<shapely.geometry.collection.GeometryCollection at 0x7f215126af10>"
      ]
     },
     "execution_count": 7,
     "metadata": {},
     "output_type": "execute_result"
    }
   ],
   "source": [
    "two_things = line.union(rectangle)\n",
    "two_things"
   ]
  },
  {
   "cell_type": "markdown",
   "id": "d6f45586-6268-4420-abaa-17247941d12d",
   "metadata": {},
   "source": [
    "## 2.2 How to do simple geometric operations"
   ]
  },
  {
   "cell_type": "code",
   "execution_count": 8,
   "id": "3c6b4617-73fc-4c57-954f-743c094be9b1",
   "metadata": {},
   "outputs": [
    {
     "data": {
      "image/svg+xml": [
       "<svg xmlns=\"http://www.w3.org/2000/svg\" xmlns:xlink=\"http://www.w3.org/1999/xlink\" width=\"100.0\" height=\"100.0\" viewBox=\"-2.16 -2.16 4.32 3.3200000000000003\" preserveAspectRatio=\"xMinYMin meet\"><g transform=\"matrix(1,0,0,-1,0,-1.0000000000000002)\"><path fill-rule=\"evenodd\" fill=\"#66cc99\" stroke=\"#555555\" stroke-width=\"0.0864\" opacity=\"0.6\" d=\"M 2.0,0.0 L 2.0,-2.0 L -2.0,-2.0 L -2.0,0.0 L -0.9999999999999999,0.0 L -0.9951847266721972,0.0980171403295575 L -0.9807852804032311,0.19509032201612486 L -0.9569403357322098,0.29028467725445917 L -0.9238795325112882,0.38268343236508634 L -0.8819212643483567,0.4713967368259945 L -0.8314696123025475,0.555570233019599 L -0.7730104533627393,0.6343932841636426 L -0.7071067811865505,0.7071067811865446 L -0.6343932841636486,0.7730104533627344 L -0.5555702330196058,0.8314696123025428 L -0.4713967368260018,0.8819212643483528 L -0.3826834323650936,0.9238795325112852 L -0.29028467725446666,0.9569403357322076 L -0.19509032201613302,0.9807852804032295 L -0.09801714032956575,0.9951847266721964 L -4.624589118372729e-15,1.0 L 0.09801714032955566,0.9951847266721974 L 0.19509032201612306,0.9807852804032314 L 0.29028467725445783,0.9569403357322103 L 0.38268343236508506,0.9238795325112887 L 0.47139673682599287,0.8819212643483576 L 0.5555702330195974,0.8314696123025485 L 0.6343932841636415,0.7730104533627402 L 0.7071067811865436,0.7071067811865515 L 0.7730104533627332,0.63439328416365 L 0.8314696123025418,0.5555702330196074 L 0.8819212643483524,0.47139673682600264 L 0.9238795325112844,0.38268343236509533 L 0.956940335732207,0.29028467725446844 L 0.9807852804032291,0.19509032201613483 L 0.9951847266721963,0.0980171403295667 L 1.0,0.0 L 2.0,0.0 z\" /></g></svg>"
      ],
      "text/plain": [
       "<shapely.geometry.polygon.Polygon at 0x7f215126a4c0>"
      ]
     },
     "execution_count": 8,
     "metadata": {},
     "output_type": "execute_result"
    }
   ],
   "source": [
    "rectangle.union(circle)"
   ]
  },
  {
   "cell_type": "code",
   "execution_count": 9,
   "id": "0c1bcd3e-f8c6-4478-a9f8-db66a1fc4f77",
   "metadata": {},
   "outputs": [
    {
     "data": {
      "image/svg+xml": [
       "<svg xmlns=\"http://www.w3.org/2000/svg\" xmlns:xlink=\"http://www.w3.org/1999/xlink\" width=\"100.0\" height=\"100.0\" viewBox=\"-1.08 -1.08 2.16 1.1600000000000001\" preserveAspectRatio=\"xMinYMin meet\"><g transform=\"matrix(1,0,0,-1,0,-1.0)\"><path fill-rule=\"evenodd\" fill=\"#66cc99\" stroke=\"#555555\" stroke-width=\"0.0432\" opacity=\"0.6\" d=\"M 1.0,0.0 L 0.9951847266721969,-0.0980171403295605 L 0.9807852804032305,-0.19509032201612808 L 0.9569403357322089,-0.2902846772544621 L 0.923879532511287,-0.3826834323650894 L 0.8819212643483553,-0.4713967368259972 L 0.8314696123025456,-0.5555702330196017 L 0.7730104533627374,-0.6343932841636449 L 0.7071067811865481,-0.7071067811865469 L 0.6343932841636463,-0.7730104533627363 L 0.5555702330196031,-0.8314696123025447 L 0.4713967368259986,-0.8819212643483545 L 0.38268343236509084,-0.9238795325112863 L 0.2902846772544636,-0.9569403357322085 L 0.19509032201612964,-0.9807852804032302 L 0.09801714032956209,-0.9951847266721967 L 1.6155445744325867e-15,-1.0 L -0.09801714032955888,-0.995184726672197 L -0.19509032201612647,-0.9807852804032308 L -0.2902846772544605,-0.9569403357322094 L -0.38268343236508784,-0.9238795325112875 L -0.4713967368259957,-0.881921264348356 L -0.5555702330196005,-0.8314696123025463 L -0.6343932841636436,-0.7730104533627385 L -0.7071067811865459,-0.7071067811865491 L -0.7730104533627353,-0.6343932841636476 L -0.8314696123025438,-0.5555702330196043 L -0.8819212643483537,-0.4713967368260002 L -0.9238795325112857,-0.38268343236509234 L -0.9569403357322079,-0.29028467725446533 L -0.9807852804032299,-0.19509032201613122 L -0.9951847266721966,-0.09801714032956392 L -1.0,-3.2310891488651735e-15 L -0.9999999999999999,0.0 L 1.0,0.0 z\" /></g></svg>"
      ],
      "text/plain": [
       "<shapely.geometry.polygon.Polygon at 0x7f21a896d4c0>"
      ]
     },
     "execution_count": 9,
     "metadata": {},
     "output_type": "execute_result"
    }
   ],
   "source": [
    "rectangle.intersection(circle)"
   ]
  },
  {
   "cell_type": "code",
   "execution_count": 10,
   "id": "23d0a0b5-3cf4-4933-a55a-e36dd63c25d2",
   "metadata": {},
   "outputs": [
    {
     "data": {
      "image/svg+xml": [
       "<svg xmlns=\"http://www.w3.org/2000/svg\" xmlns:xlink=\"http://www.w3.org/1999/xlink\" width=\"100.0\" height=\"100.0\" viewBox=\"-2.16 -2.16 4.32 2.3200000000000003\" preserveAspectRatio=\"xMinYMin meet\"><g transform=\"matrix(1,0,0,-1,0,-2.0)\"><path fill-rule=\"evenodd\" fill=\"#66cc99\" stroke=\"#555555\" stroke-width=\"0.0864\" opacity=\"0.6\" d=\"M 2.0,0.0 L 2.0,-2.0 L -2.0,-2.0 L -2.0,0.0 L -0.9999999999999999,0.0 L -1.0,-3.2310891488651735e-15 L -0.9951847266721966,-0.09801714032956392 L -0.9807852804032299,-0.19509032201613122 L -0.9569403357322079,-0.29028467725446533 L -0.9238795325112857,-0.38268343236509234 L -0.8819212643483537,-0.4713967368260002 L -0.8314696123025438,-0.5555702330196043 L -0.7730104533627353,-0.6343932841636476 L -0.7071067811865459,-0.7071067811865491 L -0.6343932841636436,-0.7730104533627385 L -0.5555702330196005,-0.8314696123025463 L -0.4713967368259957,-0.881921264348356 L -0.38268343236508784,-0.9238795325112875 L -0.2902846772544605,-0.9569403357322094 L -0.19509032201612647,-0.9807852804032308 L -0.09801714032955888,-0.995184726672197 L 1.6155445744325867e-15,-1.0 L 0.09801714032956209,-0.9951847266721967 L 0.19509032201612964,-0.9807852804032302 L 0.2902846772544636,-0.9569403357322085 L 0.38268343236509084,-0.9238795325112863 L 0.4713967368259986,-0.8819212643483545 L 0.5555702330196031,-0.8314696123025447 L 0.6343932841636463,-0.7730104533627363 L 0.7071067811865481,-0.7071067811865469 L 0.7730104533627374,-0.6343932841636449 L 0.8314696123025456,-0.5555702330196017 L 0.8819212643483553,-0.4713967368259972 L 0.923879532511287,-0.3826834323650894 L 0.9569403357322089,-0.2902846772544621 L 0.9807852804032305,-0.19509032201612808 L 0.9951847266721969,-0.0980171403295605 L 1.0,0.0 L 2.0,0.0 z\" /></g></svg>"
      ],
      "text/plain": [
       "<shapely.geometry.polygon.Polygon at 0x7f215126a580>"
      ]
     },
     "execution_count": 10,
     "metadata": {},
     "output_type": "execute_result"
    }
   ],
   "source": [
    "rectangle.difference(circle)"
   ]
  },
  {
   "cell_type": "code",
   "execution_count": 11,
   "id": "7bac7b3a-62b3-4dd5-ac03-37b5aba90b56",
   "metadata": {},
   "outputs": [
    {
     "data": {
      "image/svg+xml": [
       "<svg xmlns=\"http://www.w3.org/2000/svg\" xmlns:xlink=\"http://www.w3.org/1999/xlink\" width=\"100.0\" height=\"100.0\" viewBox=\"-2.16 -2.16 4.32 3.3200000000000003\" preserveAspectRatio=\"xMinYMin meet\"><g transform=\"matrix(1,0,0,-1,0,-1.0000000000000002)\"><g><path fill-rule=\"evenodd\" fill=\"#66cc99\" stroke=\"#555555\" stroke-width=\"0.0864\" opacity=\"0.6\" d=\"M 2.0,0.0 L 2.0,-2.0 L -2.0,-2.0 L -2.0,0.0 L -0.9999999999999999,0.0 L -1.0,-3.2310891488651735e-15 L -0.9951847266721966,-0.09801714032956392 L -0.9807852804032299,-0.19509032201613122 L -0.9569403357322079,-0.29028467725446533 L -0.9238795325112857,-0.38268343236509234 L -0.8819212643483537,-0.4713967368260002 L -0.8314696123025438,-0.5555702330196043 L -0.7730104533627353,-0.6343932841636476 L -0.7071067811865459,-0.7071067811865491 L -0.6343932841636436,-0.7730104533627385 L -0.5555702330196005,-0.8314696123025463 L -0.4713967368259957,-0.881921264348356 L -0.38268343236508784,-0.9238795325112875 L -0.2902846772544605,-0.9569403357322094 L -0.19509032201612647,-0.9807852804032308 L -0.09801714032955888,-0.995184726672197 L 1.6155445744325867e-15,-1.0 L 0.09801714032956209,-0.9951847266721967 L 0.19509032201612964,-0.9807852804032302 L 0.2902846772544636,-0.9569403357322085 L 0.38268343236509084,-0.9238795325112863 L 0.4713967368259986,-0.8819212643483545 L 0.5555702330196031,-0.8314696123025447 L 0.6343932841636463,-0.7730104533627363 L 0.7071067811865481,-0.7071067811865469 L 0.7730104533627374,-0.6343932841636449 L 0.8314696123025456,-0.5555702330196017 L 0.8819212643483553,-0.4713967368259972 L 0.923879532511287,-0.3826834323650894 L 0.9569403357322089,-0.2902846772544621 L 0.9807852804032305,-0.19509032201612808 L 0.9951847266721969,-0.0980171403295605 L 1.0,0.0 L 2.0,0.0 z\" /><path fill-rule=\"evenodd\" fill=\"#66cc99\" stroke=\"#555555\" stroke-width=\"0.0864\" opacity=\"0.6\" d=\"M -0.9999999999999999,0.0 L -0.9951847266721972,0.0980171403295575 L -0.9807852804032311,0.19509032201612486 L -0.9569403357322098,0.29028467725445917 L -0.9238795325112882,0.38268343236508634 L -0.8819212643483567,0.4713967368259945 L -0.8314696123025475,0.555570233019599 L -0.7730104533627393,0.6343932841636426 L -0.7071067811865505,0.7071067811865446 L -0.6343932841636486,0.7730104533627344 L -0.5555702330196058,0.8314696123025428 L -0.4713967368260018,0.8819212643483528 L -0.3826834323650936,0.9238795325112852 L -0.29028467725446666,0.9569403357322076 L -0.19509032201613302,0.9807852804032295 L -0.09801714032956575,0.9951847266721964 L -4.624589118372729e-15,1.0 L 0.09801714032955566,0.9951847266721974 L 0.19509032201612306,0.9807852804032314 L 0.29028467725445783,0.9569403357322103 L 0.38268343236508506,0.9238795325112887 L 0.47139673682599287,0.8819212643483576 L 0.5555702330195974,0.8314696123025485 L 0.6343932841636415,0.7730104533627402 L 0.7071067811865436,0.7071067811865515 L 0.7730104533627332,0.63439328416365 L 0.8314696123025418,0.5555702330196074 L 0.8819212643483524,0.47139673682600264 L 0.9238795325112844,0.38268343236509533 L 0.956940335732207,0.29028467725446844 L 0.9807852804032291,0.19509032201613483 L 0.9951847266721963,0.0980171403295667 L 1.0,0.0 L -0.9999999999999999,0.0 z\" /></g></g></svg>"
      ],
      "text/plain": [
       "<shapely.geometry.multipolygon.MultiPolygon at 0x7f215126a880>"
      ]
     },
     "execution_count": 11,
     "metadata": {},
     "output_type": "execute_result"
    }
   ],
   "source": [
    "rectangle.symmetric_difference(circle)"
   ]
  },
  {
   "cell_type": "markdown",
   "id": "a03cdc87-1d7f-4468-b95b-1a84c1273379",
   "metadata": {},
   "source": [
    "# 3 Pandas\n",
    "\n",
    "## 3.1 The counterintuitive behavior of copies and views\n",
    "\n",
    "Taken from here: highly recommended reading!: https://www.practicaldatascience.org/html/views_and_copies_in_pandas.html"
   ]
  },
  {
   "cell_type": "code",
   "execution_count": 12,
   "id": "3798a20b-7648-494d-8693-3a31d91f7358",
   "metadata": {},
   "outputs": [],
   "source": [
    "import numpy as np\n",
    "import pandas as pd"
   ]
  },
  {
   "cell_type": "code",
   "execution_count": 13,
   "id": "1f951fc7-d41f-4817-8d61-cb0761201428",
   "metadata": {},
   "outputs": [
    {
     "data": {
      "text/html": [
       "<div>\n",
       "<style scoped>\n",
       "    .dataframe tbody tr th:only-of-type {\n",
       "        vertical-align: middle;\n",
       "    }\n",
       "\n",
       "    .dataframe tbody tr th {\n",
       "        vertical-align: top;\n",
       "    }\n",
       "\n",
       "    .dataframe thead th {\n",
       "        text-align: right;\n",
       "    }\n",
       "</style>\n",
       "<table border=\"1\" class=\"dataframe\">\n",
       "  <thead>\n",
       "    <tr style=\"text-align: right;\">\n",
       "      <th></th>\n",
       "      <th>a</th>\n",
       "      <th>b</th>\n",
       "    </tr>\n",
       "  </thead>\n",
       "  <tbody>\n",
       "    <tr>\n",
       "      <th>0</th>\n",
       "      <td>0</td>\n",
       "      <td>0</td>\n",
       "    </tr>\n",
       "    <tr>\n",
       "      <th>1</th>\n",
       "      <td>1</td>\n",
       "      <td>1</td>\n",
       "    </tr>\n",
       "    <tr>\n",
       "      <th>2</th>\n",
       "      <td>2</td>\n",
       "      <td>2</td>\n",
       "    </tr>\n",
       "    <tr>\n",
       "      <th>3</th>\n",
       "      <td>3</td>\n",
       "      <td>3</td>\n",
       "    </tr>\n",
       "  </tbody>\n",
       "</table>\n",
       "</div>"
      ],
      "text/plain": [
       "   a  b\n",
       "0  0  0\n",
       "1  1  1\n",
       "2  2  2\n",
       "3  3  3"
      ]
     },
     "execution_count": 13,
     "metadata": {},
     "output_type": "execute_result"
    }
   ],
   "source": [
    "df = pd.DataFrame({'a':np.arange(4), 'b':np.arange(4)})\n",
    "df"
   ]
  },
  {
   "cell_type": "code",
   "execution_count": 14,
   "id": "97e5e518-f9b7-4cae-8891-745c598145f7",
   "metadata": {},
   "outputs": [
    {
     "data": {
      "text/html": [
       "<div>\n",
       "<style scoped>\n",
       "    .dataframe tbody tr th:only-of-type {\n",
       "        vertical-align: middle;\n",
       "    }\n",
       "\n",
       "    .dataframe tbody tr th {\n",
       "        vertical-align: top;\n",
       "    }\n",
       "\n",
       "    .dataframe thead th {\n",
       "        text-align: right;\n",
       "    }\n",
       "</style>\n",
       "<table border=\"1\" class=\"dataframe\">\n",
       "  <thead>\n",
       "    <tr style=\"text-align: right;\">\n",
       "      <th></th>\n",
       "      <th>a</th>\n",
       "      <th>b</th>\n",
       "    </tr>\n",
       "  </thead>\n",
       "  <tbody>\n",
       "    <tr>\n",
       "      <th>1</th>\n",
       "      <td>1</td>\n",
       "      <td>1</td>\n",
       "    </tr>\n",
       "    <tr>\n",
       "      <th>2</th>\n",
       "      <td>2</td>\n",
       "      <td>2</td>\n",
       "    </tr>\n",
       "  </tbody>\n",
       "</table>\n",
       "</div>"
      ],
      "text/plain": [
       "   a  b\n",
       "1  1  1\n",
       "2  2  2"
      ]
     },
     "execution_count": 14,
     "metadata": {},
     "output_type": "execute_result"
    }
   ],
   "source": [
    "my_slice = df.iloc[1:3,]\n",
    "my_slice"
   ]
  },
  {
   "cell_type": "markdown",
   "id": "98d72e60-da9e-498d-947e-8a4d2fa85ddf",
   "metadata": {},
   "source": [
    "This change propagates:"
   ]
  },
  {
   "cell_type": "code",
   "execution_count": 15,
   "id": "27864f30-779f-429a-933a-9357c03d8c6d",
   "metadata": {},
   "outputs": [
    {
     "data": {
      "text/html": [
       "<div>\n",
       "<style scoped>\n",
       "    .dataframe tbody tr th:only-of-type {\n",
       "        vertical-align: middle;\n",
       "    }\n",
       "\n",
       "    .dataframe tbody tr th {\n",
       "        vertical-align: top;\n",
       "    }\n",
       "\n",
       "    .dataframe thead th {\n",
       "        text-align: right;\n",
       "    }\n",
       "</style>\n",
       "<table border=\"1\" class=\"dataframe\">\n",
       "  <thead>\n",
       "    <tr style=\"text-align: right;\">\n",
       "      <th></th>\n",
       "      <th>a</th>\n",
       "      <th>b</th>\n",
       "    </tr>\n",
       "  </thead>\n",
       "  <tbody>\n",
       "    <tr>\n",
       "      <th>0</th>\n",
       "      <td>0</td>\n",
       "      <td>0</td>\n",
       "    </tr>\n",
       "    <tr>\n",
       "      <th>1</th>\n",
       "      <td>1</td>\n",
       "      <td>-1</td>\n",
       "    </tr>\n",
       "    <tr>\n",
       "      <th>2</th>\n",
       "      <td>2</td>\n",
       "      <td>2</td>\n",
       "    </tr>\n",
       "    <tr>\n",
       "      <th>3</th>\n",
       "      <td>3</td>\n",
       "      <td>3</td>\n",
       "    </tr>\n",
       "  </tbody>\n",
       "</table>\n",
       "</div>"
      ],
      "text/plain": [
       "   a  b\n",
       "0  0  0\n",
       "1  1 -1\n",
       "2  2  2\n",
       "3  3  3"
      ]
     },
     "execution_count": 15,
     "metadata": {},
     "output_type": "execute_result"
    }
   ],
   "source": [
    "df.iloc[1,1] = -1\n",
    "df"
   ]
  },
  {
   "cell_type": "code",
   "execution_count": 16,
   "id": "d303ae75-c39a-4a1d-8c13-342a478ada61",
   "metadata": {},
   "outputs": [
    {
     "data": {
      "text/html": [
       "<div>\n",
       "<style scoped>\n",
       "    .dataframe tbody tr th:only-of-type {\n",
       "        vertical-align: middle;\n",
       "    }\n",
       "\n",
       "    .dataframe tbody tr th {\n",
       "        vertical-align: top;\n",
       "    }\n",
       "\n",
       "    .dataframe thead th {\n",
       "        text-align: right;\n",
       "    }\n",
       "</style>\n",
       "<table border=\"1\" class=\"dataframe\">\n",
       "  <thead>\n",
       "    <tr style=\"text-align: right;\">\n",
       "      <th></th>\n",
       "      <th>a</th>\n",
       "      <th>b</th>\n",
       "    </tr>\n",
       "  </thead>\n",
       "  <tbody>\n",
       "    <tr>\n",
       "      <th>1</th>\n",
       "      <td>1</td>\n",
       "      <td>-1</td>\n",
       "    </tr>\n",
       "    <tr>\n",
       "      <th>2</th>\n",
       "      <td>2</td>\n",
       "      <td>2</td>\n",
       "    </tr>\n",
       "  </tbody>\n",
       "</table>\n",
       "</div>"
      ],
      "text/plain": [
       "   a  b\n",
       "1  1 -1\n",
       "2  2  2"
      ]
     },
     "execution_count": 16,
     "metadata": {},
     "output_type": "execute_result"
    }
   ],
   "source": [
    "my_slice"
   ]
  },
  {
   "cell_type": "markdown",
   "id": "8731dcaa-d5ad-4a40-b4e9-3d00fee313b2",
   "metadata": {},
   "source": [
    "But this one does not!"
   ]
  },
  {
   "cell_type": "code",
   "execution_count": 17,
   "id": "b53f783a-972d-4bf5-84a8-5072a8eecd11",
   "metadata": {},
   "outputs": [
    {
     "data": {
      "text/html": [
       "<div>\n",
       "<style scoped>\n",
       "    .dataframe tbody tr th:only-of-type {\n",
       "        vertical-align: middle;\n",
       "    }\n",
       "\n",
       "    .dataframe tbody tr th {\n",
       "        vertical-align: top;\n",
       "    }\n",
       "\n",
       "    .dataframe thead th {\n",
       "        text-align: right;\n",
       "    }\n",
       "</style>\n",
       "<table border=\"1\" class=\"dataframe\">\n",
       "  <thead>\n",
       "    <tr style=\"text-align: right;\">\n",
       "      <th></th>\n",
       "      <th>a</th>\n",
       "      <th>b</th>\n",
       "    </tr>\n",
       "  </thead>\n",
       "  <tbody>\n",
       "    <tr>\n",
       "      <th>0</th>\n",
       "      <td>0.00</td>\n",
       "      <td>0</td>\n",
       "    </tr>\n",
       "    <tr>\n",
       "      <th>1</th>\n",
       "      <td>3.14</td>\n",
       "      <td>-1</td>\n",
       "    </tr>\n",
       "    <tr>\n",
       "      <th>2</th>\n",
       "      <td>2.00</td>\n",
       "      <td>2</td>\n",
       "    </tr>\n",
       "    <tr>\n",
       "      <th>3</th>\n",
       "      <td>3.00</td>\n",
       "      <td>3</td>\n",
       "    </tr>\n",
       "  </tbody>\n",
       "</table>\n",
       "</div>"
      ],
      "text/plain": [
       "      a  b\n",
       "0  0.00  0\n",
       "1  3.14 -1\n",
       "2  2.00  2\n",
       "3  3.00  3"
      ]
     },
     "execution_count": 17,
     "metadata": {},
     "output_type": "execute_result"
    }
   ],
   "source": [
    "df.iloc[1,0] = 3.14\n",
    "df"
   ]
  },
  {
   "cell_type": "code",
   "execution_count": 18,
   "id": "6caea165-b585-47db-9cae-0c6b48682f67",
   "metadata": {},
   "outputs": [
    {
     "data": {
      "text/html": [
       "<div>\n",
       "<style scoped>\n",
       "    .dataframe tbody tr th:only-of-type {\n",
       "        vertical-align: middle;\n",
       "    }\n",
       "\n",
       "    .dataframe tbody tr th {\n",
       "        vertical-align: top;\n",
       "    }\n",
       "\n",
       "    .dataframe thead th {\n",
       "        text-align: right;\n",
       "    }\n",
       "</style>\n",
       "<table border=\"1\" class=\"dataframe\">\n",
       "  <thead>\n",
       "    <tr style=\"text-align: right;\">\n",
       "      <th></th>\n",
       "      <th>a</th>\n",
       "      <th>b</th>\n",
       "    </tr>\n",
       "  </thead>\n",
       "  <tbody>\n",
       "    <tr>\n",
       "      <th>1</th>\n",
       "      <td>1</td>\n",
       "      <td>-1</td>\n",
       "    </tr>\n",
       "    <tr>\n",
       "      <th>2</th>\n",
       "      <td>2</td>\n",
       "      <td>2</td>\n",
       "    </tr>\n",
       "  </tbody>\n",
       "</table>\n",
       "</div>"
      ],
      "text/plain": [
       "   a  b\n",
       "1  1 -1\n",
       "2  2  2"
      ]
     },
     "execution_count": 18,
     "metadata": {},
     "output_type": "execute_result"
    }
   ],
   "source": [
    "my_slice"
   ]
  },
  {
   "cell_type": "markdown",
   "id": "25cafb68-472b-403c-b411-6ea77ea5089d",
   "metadata": {},
   "source": [
    "## 3.2 Different types of sort in pandas"
   ]
  },
  {
   "cell_type": "markdown",
   "id": "4cf05127-2c7e-4116-85e0-a661d0da2a0e",
   "metadata": {},
   "source": [
    "The pandas documentation (https://pandas.pydata.org/pandas-docs/stable/reference/api/pandas.DataFrame.sort_values.html)\n",
    "\n",
    "tells us for the argument `kind` of `sort_values`:\n",
    "\n",
    "kind{‘quicksort’, ‘mergesort’, ‘heapsort’}, default ‘quicksort’\n",
    "\n",
    "    Choice of sorting algorithm. See also ndarray.np.sort for more information. mergesort is the only stable algorithm. For DataFrames, this option is only applied when sorting on a single column or label.\n"
   ]
  },
  {
   "cell_type": "markdown",
   "id": "e6bfe1f2-3884-4128-aefd-7c4b2f18aebd",
   "metadata": {},
   "source": [
    "The following example is taken from this **very comprehensive** post: https://realpython.com/pandas-sort-python/\n",
    "\n",
    "The `vehicles.csv` comes from here: https://www.fueleconomy.gov/feg/epadata/vehicles.csv"
   ]
  },
  {
   "cell_type": "code",
   "execution_count": 19,
   "id": "83ad6fbd-52f9-4cbd-9c4a-aa945906c6d2",
   "metadata": {},
   "outputs": [],
   "source": [
    "column_subset = [\n",
    "    \"id\",\n",
    "    \"make\",\n",
    "    \"model\",\n",
    "    \"year\",\n",
    "    \"cylinders\",\n",
    "    \"fuelType\",\n",
    "    \"trany\",\n",
    "    \"mpgData\",\n",
    "    \"city08\",\n",
    "    \"highway08\"\n",
    "    ]"
   ]
  },
  {
   "cell_type": "markdown",
   "id": "9dd2ebd7-e768-4f90-8ade-ee860d0b370b",
   "metadata": {},
   "source": [
    "We are reading the `.csv` directly from disk as directly loading from the the webpage as in the example was a bit slow. If you want to load it directly, replace `\"vehicles.csv\"` with `\"https://www.fueleconomy.gov/feg/epadata/vehicles.csv\"` below"
   ]
  },
  {
   "cell_type": "code",
   "execution_count": 20,
   "id": "cc00a7e3-9a2c-45ec-83c6-e0a0011512a0",
   "metadata": {},
   "outputs": [],
   "source": [
    "df = pd.read_csv(\n",
    "    \"vehicles.csv\",\n",
    "    usecols=column_subset,\n",
    "    nrows=100\n",
    "    )"
   ]
  },
  {
   "cell_type": "code",
   "execution_count": 21,
   "id": "655b4eed-bc95-4610-97c2-70f86a795463",
   "metadata": {},
   "outputs": [
    {
     "data": {
      "text/html": [
       "<div>\n",
       "<style scoped>\n",
       "    .dataframe tbody tr th:only-of-type {\n",
       "        vertical-align: middle;\n",
       "    }\n",
       "\n",
       "    .dataframe tbody tr th {\n",
       "        vertical-align: top;\n",
       "    }\n",
       "\n",
       "    .dataframe thead th {\n",
       "        text-align: right;\n",
       "    }\n",
       "</style>\n",
       "<table border=\"1\" class=\"dataframe\">\n",
       "  <thead>\n",
       "    <tr style=\"text-align: right;\">\n",
       "      <th></th>\n",
       "      <th>city08</th>\n",
       "      <th>cylinders</th>\n",
       "      <th>fuelType</th>\n",
       "      <th>highway08</th>\n",
       "      <th>id</th>\n",
       "      <th>make</th>\n",
       "      <th>model</th>\n",
       "      <th>mpgData</th>\n",
       "      <th>trany</th>\n",
       "      <th>year</th>\n",
       "    </tr>\n",
       "  </thead>\n",
       "  <tbody>\n",
       "    <tr>\n",
       "      <th>0</th>\n",
       "      <td>19</td>\n",
       "      <td>4</td>\n",
       "      <td>Regular</td>\n",
       "      <td>25</td>\n",
       "      <td>1</td>\n",
       "      <td>Alfa Romeo</td>\n",
       "      <td>Spider Veloce 2000</td>\n",
       "      <td>Y</td>\n",
       "      <td>Manual 5-spd</td>\n",
       "      <td>1985</td>\n",
       "    </tr>\n",
       "    <tr>\n",
       "      <th>1</th>\n",
       "      <td>9</td>\n",
       "      <td>12</td>\n",
       "      <td>Regular</td>\n",
       "      <td>14</td>\n",
       "      <td>10</td>\n",
       "      <td>Ferrari</td>\n",
       "      <td>Testarossa</td>\n",
       "      <td>N</td>\n",
       "      <td>Manual 5-spd</td>\n",
       "      <td>1985</td>\n",
       "    </tr>\n",
       "    <tr>\n",
       "      <th>2</th>\n",
       "      <td>23</td>\n",
       "      <td>4</td>\n",
       "      <td>Regular</td>\n",
       "      <td>33</td>\n",
       "      <td>100</td>\n",
       "      <td>Dodge</td>\n",
       "      <td>Charger</td>\n",
       "      <td>Y</td>\n",
       "      <td>Manual 5-spd</td>\n",
       "      <td>1985</td>\n",
       "    </tr>\n",
       "    <tr>\n",
       "      <th>3</th>\n",
       "      <td>10</td>\n",
       "      <td>8</td>\n",
       "      <td>Regular</td>\n",
       "      <td>12</td>\n",
       "      <td>1000</td>\n",
       "      <td>Dodge</td>\n",
       "      <td>B150/B250 Wagon 2WD</td>\n",
       "      <td>N</td>\n",
       "      <td>Automatic 3-spd</td>\n",
       "      <td>1985</td>\n",
       "    </tr>\n",
       "    <tr>\n",
       "      <th>4</th>\n",
       "      <td>17</td>\n",
       "      <td>4</td>\n",
       "      <td>Premium</td>\n",
       "      <td>23</td>\n",
       "      <td>10000</td>\n",
       "      <td>Subaru</td>\n",
       "      <td>Legacy AWD Turbo</td>\n",
       "      <td>N</td>\n",
       "      <td>Manual 5-spd</td>\n",
       "      <td>1993</td>\n",
       "    </tr>\n",
       "    <tr>\n",
       "      <th>...</th>\n",
       "      <td>...</td>\n",
       "      <td>...</td>\n",
       "      <td>...</td>\n",
       "      <td>...</td>\n",
       "      <td>...</td>\n",
       "      <td>...</td>\n",
       "      <td>...</td>\n",
       "      <td>...</td>\n",
       "      <td>...</td>\n",
       "      <td>...</td>\n",
       "    </tr>\n",
       "    <tr>\n",
       "      <th>95</th>\n",
       "      <td>17</td>\n",
       "      <td>6</td>\n",
       "      <td>Regular</td>\n",
       "      <td>25</td>\n",
       "      <td>10083</td>\n",
       "      <td>Pontiac</td>\n",
       "      <td>Grand Prix</td>\n",
       "      <td>Y</td>\n",
       "      <td>Automatic 3-spd</td>\n",
       "      <td>1993</td>\n",
       "    </tr>\n",
       "    <tr>\n",
       "      <th>96</th>\n",
       "      <td>17</td>\n",
       "      <td>6</td>\n",
       "      <td>Regular</td>\n",
       "      <td>27</td>\n",
       "      <td>10084</td>\n",
       "      <td>Pontiac</td>\n",
       "      <td>Grand Prix</td>\n",
       "      <td>N</td>\n",
       "      <td>Automatic 4-spd</td>\n",
       "      <td>1993</td>\n",
       "    </tr>\n",
       "    <tr>\n",
       "      <th>97</th>\n",
       "      <td>15</td>\n",
       "      <td>6</td>\n",
       "      <td>Regular</td>\n",
       "      <td>24</td>\n",
       "      <td>10085</td>\n",
       "      <td>Pontiac</td>\n",
       "      <td>Grand Prix</td>\n",
       "      <td>N</td>\n",
       "      <td>Automatic 4-spd</td>\n",
       "      <td>1993</td>\n",
       "    </tr>\n",
       "    <tr>\n",
       "      <th>98</th>\n",
       "      <td>15</td>\n",
       "      <td>6</td>\n",
       "      <td>Regular</td>\n",
       "      <td>24</td>\n",
       "      <td>10086</td>\n",
       "      <td>Pontiac</td>\n",
       "      <td>Grand Prix</td>\n",
       "      <td>N</td>\n",
       "      <td>Manual 5-spd</td>\n",
       "      <td>1993</td>\n",
       "    </tr>\n",
       "    <tr>\n",
       "      <th>99</th>\n",
       "      <td>9</td>\n",
       "      <td>8</td>\n",
       "      <td>Premium</td>\n",
       "      <td>13</td>\n",
       "      <td>10087</td>\n",
       "      <td>Rolls-Royce</td>\n",
       "      <td>Brooklands/Brklnds L</td>\n",
       "      <td>N</td>\n",
       "      <td>Automatic 4-spd</td>\n",
       "      <td>1993</td>\n",
       "    </tr>\n",
       "  </tbody>\n",
       "</table>\n",
       "<p>100 rows × 10 columns</p>\n",
       "</div>"
      ],
      "text/plain": [
       "    city08  cylinders fuelType  highway08     id         make  \\\n",
       "0       19          4  Regular         25      1   Alfa Romeo   \n",
       "1        9         12  Regular         14     10      Ferrari   \n",
       "2       23          4  Regular         33    100        Dodge   \n",
       "3       10          8  Regular         12   1000        Dodge   \n",
       "4       17          4  Premium         23  10000       Subaru   \n",
       "..     ...        ...      ...        ...    ...          ...   \n",
       "95      17          6  Regular         25  10083      Pontiac   \n",
       "96      17          6  Regular         27  10084      Pontiac   \n",
       "97      15          6  Regular         24  10085      Pontiac   \n",
       "98      15          6  Regular         24  10086      Pontiac   \n",
       "99       9          8  Premium         13  10087  Rolls-Royce   \n",
       "\n",
       "                   model mpgData            trany  year  \n",
       "0     Spider Veloce 2000       Y     Manual 5-spd  1985  \n",
       "1             Testarossa       N     Manual 5-spd  1985  \n",
       "2                Charger       Y     Manual 5-spd  1985  \n",
       "3    B150/B250 Wagon 2WD       N  Automatic 3-spd  1985  \n",
       "4       Legacy AWD Turbo       N     Manual 5-spd  1993  \n",
       "..                   ...     ...              ...   ...  \n",
       "95            Grand Prix       Y  Automatic 3-spd  1993  \n",
       "96            Grand Prix       N  Automatic 4-spd  1993  \n",
       "97            Grand Prix       N  Automatic 4-spd  1993  \n",
       "98            Grand Prix       N     Manual 5-spd  1993  \n",
       "99  Brooklands/Brklnds L       N  Automatic 4-spd  1993  \n",
       "\n",
       "[100 rows x 10 columns]"
      ]
     },
     "execution_count": 21,
     "metadata": {},
     "output_type": "execute_result"
    }
   ],
   "source": [
    "df"
   ]
  },
  {
   "cell_type": "code",
   "execution_count": 22,
   "id": "9b7c84d4-08dc-4b88-9fa8-cbd9dc3e0730",
   "metadata": {},
   "outputs": [
    {
     "data": {
      "text/html": [
       "<div>\n",
       "<style scoped>\n",
       "    .dataframe tbody tr th:only-of-type {\n",
       "        vertical-align: middle;\n",
       "    }\n",
       "\n",
       "    .dataframe tbody tr th {\n",
       "        vertical-align: top;\n",
       "    }\n",
       "\n",
       "    .dataframe thead th {\n",
       "        text-align: right;\n",
       "    }\n",
       "</style>\n",
       "<table border=\"1\" class=\"dataframe\">\n",
       "  <thead>\n",
       "    <tr style=\"text-align: right;\">\n",
       "      <th></th>\n",
       "      <th>city08</th>\n",
       "      <th>cylinders</th>\n",
       "      <th>fuelType</th>\n",
       "      <th>highway08</th>\n",
       "      <th>id</th>\n",
       "      <th>make</th>\n",
       "      <th>model</th>\n",
       "      <th>mpgData</th>\n",
       "      <th>trany</th>\n",
       "      <th>year</th>\n",
       "    </tr>\n",
       "  </thead>\n",
       "  <tbody>\n",
       "    <tr>\n",
       "      <th>9</th>\n",
       "      <td>23</td>\n",
       "      <td>4</td>\n",
       "      <td>Regular</td>\n",
       "      <td>30</td>\n",
       "      <td>10005</td>\n",
       "      <td>Toyota</td>\n",
       "      <td>Corolla</td>\n",
       "      <td>Y</td>\n",
       "      <td>Automatic 4-spd</td>\n",
       "      <td>1993</td>\n",
       "    </tr>\n",
       "    <tr>\n",
       "      <th>2</th>\n",
       "      <td>23</td>\n",
       "      <td>4</td>\n",
       "      <td>Regular</td>\n",
       "      <td>33</td>\n",
       "      <td>100</td>\n",
       "      <td>Dodge</td>\n",
       "      <td>Charger</td>\n",
       "      <td>Y</td>\n",
       "      <td>Manual 5-spd</td>\n",
       "      <td>1985</td>\n",
       "    </tr>\n",
       "    <tr>\n",
       "      <th>7</th>\n",
       "      <td>23</td>\n",
       "      <td>4</td>\n",
       "      <td>Regular</td>\n",
       "      <td>26</td>\n",
       "      <td>10003</td>\n",
       "      <td>Toyota</td>\n",
       "      <td>Corolla</td>\n",
       "      <td>Y</td>\n",
       "      <td>Automatic 3-spd</td>\n",
       "      <td>1993</td>\n",
       "    </tr>\n",
       "    <tr>\n",
       "      <th>8</th>\n",
       "      <td>23</td>\n",
       "      <td>4</td>\n",
       "      <td>Regular</td>\n",
       "      <td>31</td>\n",
       "      <td>10004</td>\n",
       "      <td>Toyota</td>\n",
       "      <td>Corolla</td>\n",
       "      <td>Y</td>\n",
       "      <td>Manual 5-spd</td>\n",
       "      <td>1993</td>\n",
       "    </tr>\n",
       "    <tr>\n",
       "      <th>76</th>\n",
       "      <td>23</td>\n",
       "      <td>4</td>\n",
       "      <td>Regular</td>\n",
       "      <td>31</td>\n",
       "      <td>10066</td>\n",
       "      <td>Mazda</td>\n",
       "      <td>626</td>\n",
       "      <td>Y</td>\n",
       "      <td>Manual 5-spd</td>\n",
       "      <td>1993</td>\n",
       "    </tr>\n",
       "    <tr>\n",
       "      <th>...</th>\n",
       "      <td>...</td>\n",
       "      <td>...</td>\n",
       "      <td>...</td>\n",
       "      <td>...</td>\n",
       "      <td>...</td>\n",
       "      <td>...</td>\n",
       "      <td>...</td>\n",
       "      <td>...</td>\n",
       "      <td>...</td>\n",
       "      <td>...</td>\n",
       "    </tr>\n",
       "    <tr>\n",
       "      <th>58</th>\n",
       "      <td>10</td>\n",
       "      <td>8</td>\n",
       "      <td>Regular</td>\n",
       "      <td>11</td>\n",
       "      <td>1005</td>\n",
       "      <td>Dodge</td>\n",
       "      <td>B350 Wagon 2WD</td>\n",
       "      <td>N</td>\n",
       "      <td>Automatic 3-spd</td>\n",
       "      <td>1985</td>\n",
       "    </tr>\n",
       "    <tr>\n",
       "      <th>80</th>\n",
       "      <td>9</td>\n",
       "      <td>8</td>\n",
       "      <td>Regular</td>\n",
       "      <td>10</td>\n",
       "      <td>1007</td>\n",
       "      <td>Dodge</td>\n",
       "      <td>B350 Wagon 2WD</td>\n",
       "      <td>N</td>\n",
       "      <td>Automatic 3-spd</td>\n",
       "      <td>1985</td>\n",
       "    </tr>\n",
       "    <tr>\n",
       "      <th>1</th>\n",
       "      <td>9</td>\n",
       "      <td>12</td>\n",
       "      <td>Regular</td>\n",
       "      <td>14</td>\n",
       "      <td>10</td>\n",
       "      <td>Ferrari</td>\n",
       "      <td>Testarossa</td>\n",
       "      <td>N</td>\n",
       "      <td>Manual 5-spd</td>\n",
       "      <td>1985</td>\n",
       "    </tr>\n",
       "    <tr>\n",
       "      <th>47</th>\n",
       "      <td>9</td>\n",
       "      <td>8</td>\n",
       "      <td>Regular</td>\n",
       "      <td>11</td>\n",
       "      <td>1004</td>\n",
       "      <td>Dodge</td>\n",
       "      <td>B150/B250 Wagon 2WD</td>\n",
       "      <td>N</td>\n",
       "      <td>Automatic 3-spd</td>\n",
       "      <td>1985</td>\n",
       "    </tr>\n",
       "    <tr>\n",
       "      <th>99</th>\n",
       "      <td>9</td>\n",
       "      <td>8</td>\n",
       "      <td>Premium</td>\n",
       "      <td>13</td>\n",
       "      <td>10087</td>\n",
       "      <td>Rolls-Royce</td>\n",
       "      <td>Brooklands/Brklnds L</td>\n",
       "      <td>N</td>\n",
       "      <td>Automatic 4-spd</td>\n",
       "      <td>1993</td>\n",
       "    </tr>\n",
       "  </tbody>\n",
       "</table>\n",
       "<p>100 rows × 10 columns</p>\n",
       "</div>"
      ],
      "text/plain": [
       "    city08  cylinders fuelType  highway08     id         make  \\\n",
       "9       23          4  Regular         30  10005       Toyota   \n",
       "2       23          4  Regular         33    100        Dodge   \n",
       "7       23          4  Regular         26  10003       Toyota   \n",
       "8       23          4  Regular         31  10004       Toyota   \n",
       "76      23          4  Regular         31  10066        Mazda   \n",
       "..     ...        ...      ...        ...    ...          ...   \n",
       "58      10          8  Regular         11   1005        Dodge   \n",
       "80       9          8  Regular         10   1007        Dodge   \n",
       "1        9         12  Regular         14     10      Ferrari   \n",
       "47       9          8  Regular         11   1004        Dodge   \n",
       "99       9          8  Premium         13  10087  Rolls-Royce   \n",
       "\n",
       "                   model mpgData            trany  year  \n",
       "9                Corolla       Y  Automatic 4-spd  1993  \n",
       "2                Charger       Y     Manual 5-spd  1985  \n",
       "7                Corolla       Y  Automatic 3-spd  1993  \n",
       "8                Corolla       Y     Manual 5-spd  1993  \n",
       "76                   626       Y     Manual 5-spd  1993  \n",
       "..                   ...     ...              ...   ...  \n",
       "58        B350 Wagon 2WD       N  Automatic 3-spd  1985  \n",
       "80        B350 Wagon 2WD       N  Automatic 3-spd  1985  \n",
       "1             Testarossa       N     Manual 5-spd  1985  \n",
       "47   B150/B250 Wagon 2WD       N  Automatic 3-spd  1985  \n",
       "99  Brooklands/Brklnds L       N  Automatic 4-spd  1993  \n",
       "\n",
       "[100 rows x 10 columns]"
      ]
     },
     "execution_count": 22,
     "metadata": {},
     "output_type": "execute_result"
    }
   ],
   "source": [
    "df.sort_values(\n",
    "    by=\"city08\",\n",
    "    ascending=False,\n",
    "    kind=\"quicksort\"\n",
    ")"
   ]
  },
  {
   "cell_type": "code",
   "execution_count": 23,
   "id": "1e6d20b5-d0bb-4a7b-b285-13864dd3622d",
   "metadata": {},
   "outputs": [
    {
     "data": {
      "text/html": [
       "<div>\n",
       "<style scoped>\n",
       "    .dataframe tbody tr th:only-of-type {\n",
       "        vertical-align: middle;\n",
       "    }\n",
       "\n",
       "    .dataframe tbody tr th {\n",
       "        vertical-align: top;\n",
       "    }\n",
       "\n",
       "    .dataframe thead th {\n",
       "        text-align: right;\n",
       "    }\n",
       "</style>\n",
       "<table border=\"1\" class=\"dataframe\">\n",
       "  <thead>\n",
       "    <tr style=\"text-align: right;\">\n",
       "      <th></th>\n",
       "      <th>city08</th>\n",
       "      <th>cylinders</th>\n",
       "      <th>fuelType</th>\n",
       "      <th>highway08</th>\n",
       "      <th>id</th>\n",
       "      <th>make</th>\n",
       "      <th>model</th>\n",
       "      <th>mpgData</th>\n",
       "      <th>trany</th>\n",
       "      <th>year</th>\n",
       "    </tr>\n",
       "  </thead>\n",
       "  <tbody>\n",
       "    <tr>\n",
       "      <th>2</th>\n",
       "      <td>23</td>\n",
       "      <td>4</td>\n",
       "      <td>Regular</td>\n",
       "      <td>33</td>\n",
       "      <td>100</td>\n",
       "      <td>Dodge</td>\n",
       "      <td>Charger</td>\n",
       "      <td>Y</td>\n",
       "      <td>Manual 5-spd</td>\n",
       "      <td>1985</td>\n",
       "    </tr>\n",
       "    <tr>\n",
       "      <th>7</th>\n",
       "      <td>23</td>\n",
       "      <td>4</td>\n",
       "      <td>Regular</td>\n",
       "      <td>26</td>\n",
       "      <td>10003</td>\n",
       "      <td>Toyota</td>\n",
       "      <td>Corolla</td>\n",
       "      <td>Y</td>\n",
       "      <td>Automatic 3-spd</td>\n",
       "      <td>1993</td>\n",
       "    </tr>\n",
       "    <tr>\n",
       "      <th>8</th>\n",
       "      <td>23</td>\n",
       "      <td>4</td>\n",
       "      <td>Regular</td>\n",
       "      <td>31</td>\n",
       "      <td>10004</td>\n",
       "      <td>Toyota</td>\n",
       "      <td>Corolla</td>\n",
       "      <td>Y</td>\n",
       "      <td>Manual 5-spd</td>\n",
       "      <td>1993</td>\n",
       "    </tr>\n",
       "    <tr>\n",
       "      <th>9</th>\n",
       "      <td>23</td>\n",
       "      <td>4</td>\n",
       "      <td>Regular</td>\n",
       "      <td>30</td>\n",
       "      <td>10005</td>\n",
       "      <td>Toyota</td>\n",
       "      <td>Corolla</td>\n",
       "      <td>Y</td>\n",
       "      <td>Automatic 4-spd</td>\n",
       "      <td>1993</td>\n",
       "    </tr>\n",
       "    <tr>\n",
       "      <th>10</th>\n",
       "      <td>23</td>\n",
       "      <td>4</td>\n",
       "      <td>Regular</td>\n",
       "      <td>30</td>\n",
       "      <td>10006</td>\n",
       "      <td>Toyota</td>\n",
       "      <td>Corolla</td>\n",
       "      <td>Y</td>\n",
       "      <td>Manual 5-spd</td>\n",
       "      <td>1993</td>\n",
       "    </tr>\n",
       "    <tr>\n",
       "      <th>...</th>\n",
       "      <td>...</td>\n",
       "      <td>...</td>\n",
       "      <td>...</td>\n",
       "      <td>...</td>\n",
       "      <td>...</td>\n",
       "      <td>...</td>\n",
       "      <td>...</td>\n",
       "      <td>...</td>\n",
       "      <td>...</td>\n",
       "      <td>...</td>\n",
       "    </tr>\n",
       "    <tr>\n",
       "      <th>69</th>\n",
       "      <td>10</td>\n",
       "      <td>8</td>\n",
       "      <td>Regular</td>\n",
       "      <td>11</td>\n",
       "      <td>1006</td>\n",
       "      <td>Dodge</td>\n",
       "      <td>B350 Wagon 2WD</td>\n",
       "      <td>N</td>\n",
       "      <td>Automatic 3-spd</td>\n",
       "      <td>1985</td>\n",
       "    </tr>\n",
       "    <tr>\n",
       "      <th>1</th>\n",
       "      <td>9</td>\n",
       "      <td>12</td>\n",
       "      <td>Regular</td>\n",
       "      <td>14</td>\n",
       "      <td>10</td>\n",
       "      <td>Ferrari</td>\n",
       "      <td>Testarossa</td>\n",
       "      <td>N</td>\n",
       "      <td>Manual 5-spd</td>\n",
       "      <td>1985</td>\n",
       "    </tr>\n",
       "    <tr>\n",
       "      <th>47</th>\n",
       "      <td>9</td>\n",
       "      <td>8</td>\n",
       "      <td>Regular</td>\n",
       "      <td>11</td>\n",
       "      <td>1004</td>\n",
       "      <td>Dodge</td>\n",
       "      <td>B150/B250 Wagon 2WD</td>\n",
       "      <td>N</td>\n",
       "      <td>Automatic 3-spd</td>\n",
       "      <td>1985</td>\n",
       "    </tr>\n",
       "    <tr>\n",
       "      <th>80</th>\n",
       "      <td>9</td>\n",
       "      <td>8</td>\n",
       "      <td>Regular</td>\n",
       "      <td>10</td>\n",
       "      <td>1007</td>\n",
       "      <td>Dodge</td>\n",
       "      <td>B350 Wagon 2WD</td>\n",
       "      <td>N</td>\n",
       "      <td>Automatic 3-spd</td>\n",
       "      <td>1985</td>\n",
       "    </tr>\n",
       "    <tr>\n",
       "      <th>99</th>\n",
       "      <td>9</td>\n",
       "      <td>8</td>\n",
       "      <td>Premium</td>\n",
       "      <td>13</td>\n",
       "      <td>10087</td>\n",
       "      <td>Rolls-Royce</td>\n",
       "      <td>Brooklands/Brklnds L</td>\n",
       "      <td>N</td>\n",
       "      <td>Automatic 4-spd</td>\n",
       "      <td>1993</td>\n",
       "    </tr>\n",
       "  </tbody>\n",
       "</table>\n",
       "<p>100 rows × 10 columns</p>\n",
       "</div>"
      ],
      "text/plain": [
       "    city08  cylinders fuelType  highway08     id         make  \\\n",
       "2       23          4  Regular         33    100        Dodge   \n",
       "7       23          4  Regular         26  10003       Toyota   \n",
       "8       23          4  Regular         31  10004       Toyota   \n",
       "9       23          4  Regular         30  10005       Toyota   \n",
       "10      23          4  Regular         30  10006       Toyota   \n",
       "..     ...        ...      ...        ...    ...          ...   \n",
       "69      10          8  Regular         11   1006        Dodge   \n",
       "1        9         12  Regular         14     10      Ferrari   \n",
       "47       9          8  Regular         11   1004        Dodge   \n",
       "80       9          8  Regular         10   1007        Dodge   \n",
       "99       9          8  Premium         13  10087  Rolls-Royce   \n",
       "\n",
       "                   model mpgData            trany  year  \n",
       "2                Charger       Y     Manual 5-spd  1985  \n",
       "7                Corolla       Y  Automatic 3-spd  1993  \n",
       "8                Corolla       Y     Manual 5-spd  1993  \n",
       "9                Corolla       Y  Automatic 4-spd  1993  \n",
       "10               Corolla       Y     Manual 5-spd  1993  \n",
       "..                   ...     ...              ...   ...  \n",
       "69        B350 Wagon 2WD       N  Automatic 3-spd  1985  \n",
       "1             Testarossa       N     Manual 5-spd  1985  \n",
       "47   B150/B250 Wagon 2WD       N  Automatic 3-spd  1985  \n",
       "80        B350 Wagon 2WD       N  Automatic 3-spd  1985  \n",
       "99  Brooklands/Brklnds L       N  Automatic 4-spd  1993  \n",
       "\n",
       "[100 rows x 10 columns]"
      ]
     },
     "execution_count": 23,
     "metadata": {},
     "output_type": "execute_result"
    }
   ],
   "source": [
    "df.sort_values(\n",
    "    by=\"city08\",\n",
    "    ascending=False,\n",
    "    kind=\"mergesort\"\n",
    ")"
   ]
  }
 ],
 "metadata": {
  "kernelspec": {
   "display_name": "Python 3",
   "language": "python",
   "name": "python3"
  },
  "language_info": {
   "codemirror_mode": {
    "name": "ipython",
    "version": 3
   },
   "file_extension": ".py",
   "mimetype": "text/x-python",
   "name": "python",
   "nbconvert_exporter": "python",
   "pygments_lexer": "ipython3",
   "version": "3.9.4"
  }
 },
 "nbformat": 4,
 "nbformat_minor": 5
}
