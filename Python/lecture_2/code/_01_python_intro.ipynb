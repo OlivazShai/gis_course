{
 "cells": [
  {
   "cell_type": "markdown",
   "id": "689a1dbd",
   "metadata": {},
   "source": [
    "# Rapid intro to python"
   ]
  },
  {
   "cell_type": "markdown",
   "id": "d00914a3",
   "metadata": {},
   "source": [
    "<!--TABLE OF CONTENTS-->\n",
    "Contents:\n",
    "- [1 Commenting](#1-Commenting)\n",
    "- [2 Printing](#2-Printing)\n",
    "- [3 Numbers and arithmetic](#3-Numbers-and-arithmetic)\n",
    "  - [3.1 Integers](#3.1-Integers)\n",
    "  - [3.2 Floats](#3.2-Floats)\n",
    "  - [3.3 Other operations](#3.3-Other-operations)\n",
    "  - [3.4 Switching between formats](#3.4-Switching-between-formats)\n",
    "  - [3.5 String \"arithmetic\"](#3.5-String-\"arithmetic\")\n",
    "- [4 Variables](#4-Variables)\n",
    "- [5 Boolean types and logical operations](#5-Boolean-types-and-logical-operations)\n",
    "- [6 Lists and subsetting](#6-Lists-and-subsetting)\n",
    "  - [6.1 Basics](#6.1-Basics)\n",
    "  - [6.2 Sub-setting strings](#6.2-Sub-setting-strings)\n",
    "  - [6.3 Appending lists](#6.3-Appending-lists)\n",
    "  - [6.4 Nested lists](#6.4-Nested-lists)\n",
    "  - [6.5 References and values](#6.5-References-and-values)\n",
    "  - [7 Dictionaries](#7-Dictionaries)\n",
    "- [8 Flow control](#8-Flow-control)\n",
    "  - [8.1 `range`](#8.1-`range`)\n",
    "  - [8.2 `for`-loops](#8.2-`for`-loops)\n",
    "  - [8.3 `while`-loops](#8.3-`while`-loops)\n",
    "  - [8.4 `if-else`](#8.4-`if-else`)\n",
    "  - [8.5 `enumerate`](#8.5-`enumerate`)\n",
    "- [9 Functions](#9-Functions)\n",
    "- [10 Objects, Classes, Attributes and Methods](#10-Objects,-Classes,-Attributes-and-Methods)"
   ]
  },
  {
   "cell_type": "markdown",
   "id": "efab22a5",
   "metadata": {},
   "source": [
    "# 1 Commenting"
   ]
  },
  {
   "cell_type": "code",
   "execution_count": 2,
   "id": "10159171",
   "metadata": {},
   "outputs": [],
   "source": [
    "# any statement preceded by a hash '#' symbol is commented out and ignored"
   ]
  },
  {
   "cell_type": "markdown",
   "id": "553e2233",
   "metadata": {},
   "source": [
    "# 2 Printing"
   ]
  },
  {
   "cell_type": "markdown",
   "id": "9fc09b2e",
   "metadata": {},
   "source": [
    "`print(\"whatever\")` to print things (most important debugging tool!)"
   ]
  },
  {
   "cell_type": "code",
   "execution_count": 3,
   "id": "0ab947cf",
   "metadata": {},
   "outputs": [
    {
     "name": "stdout",
     "output_type": "stream",
     "text": [
      "hello world\n"
     ]
    }
   ],
   "source": [
    "print('hello world')"
   ]
  },
  {
   "cell_type": "markdown",
   "id": "f76c778e",
   "metadata": {},
   "source": [
    "We just printed a string. We can also print numbers (and other things)"
   ]
  },
  {
   "cell_type": "code",
   "execution_count": 4,
   "id": "227c375a",
   "metadata": {},
   "outputs": [
    {
     "name": "stdout",
     "output_type": "stream",
     "text": [
      "2\n"
     ]
    }
   ],
   "source": [
    "print(2)"
   ]
  },
  {
   "cell_type": "markdown",
   "id": "835bb127",
   "metadata": {},
   "source": [
    "Strings can be enclosed in single or double quotes"
   ]
  },
  {
   "cell_type": "code",
   "execution_count": 5,
   "id": "e2b57757",
   "metadata": {},
   "outputs": [
    {
     "name": "stdout",
     "output_type": "stream",
     "text": [
      "hello world\n"
     ]
    }
   ],
   "source": [
    "print(\"hello world\")"
   ]
  },
  {
   "cell_type": "markdown",
   "id": "711d10e2",
   "metadata": {},
   "source": [
    "# 3 Numbers and arithmetic"
   ]
  },
  {
   "cell_type": "markdown",
   "id": "54e1ef0f",
   "metadata": {},
   "source": [
    "Python recognizes integers and floats. They behave differently when we perform operations on them"
   ]
  },
  {
   "cell_type": "markdown",
   "id": "b6effde1",
   "metadata": {},
   "source": [
    "## 3.1 Integers"
   ]
  },
  {
   "cell_type": "code",
   "execution_count": 6,
   "id": "60bd9375",
   "metadata": {},
   "outputs": [
    {
     "name": "stdout",
     "output_type": "stream",
     "text": [
      "4\n"
     ]
    }
   ],
   "source": [
    "print(2+2)"
   ]
  },
  {
   "cell_type": "code",
   "execution_count": 7,
   "id": "b3b52784",
   "metadata": {},
   "outputs": [
    {
     "name": "stdout",
     "output_type": "stream",
     "text": [
      "2\n"
     ]
    }
   ],
   "source": [
    "print(5//2)"
   ]
  },
  {
   "cell_type": "markdown",
   "id": "960bc6f9",
   "metadata": {},
   "source": [
    "`//` is integer division. To get the remainder, use `%`"
   ]
  },
  {
   "cell_type": "code",
   "execution_count": 8,
   "id": "3d95cb4e",
   "metadata": {},
   "outputs": [
    {
     "name": "stdout",
     "output_type": "stream",
     "text": [
      "1\n"
     ]
    }
   ],
   "source": [
    "print(5%2)"
   ]
  },
  {
   "cell_type": "markdown",
   "id": "017befb2",
   "metadata": {},
   "source": [
    "## 3.2 Floats"
   ]
  },
  {
   "cell_type": "code",
   "execution_count": 9,
   "id": "6c0128e8",
   "metadata": {},
   "outputs": [
    {
     "name": "stdout",
     "output_type": "stream",
     "text": [
      "2.5\n"
     ]
    }
   ],
   "source": [
    "print(5.0/2)"
   ]
  },
  {
   "cell_type": "code",
   "execution_count": 10,
   "id": "87b762b9",
   "metadata": {},
   "outputs": [
    {
     "name": "stdout",
     "output_type": "stream",
     "text": [
      "2.5\n"
     ]
    }
   ],
   "source": [
    "print(5/2)"
   ]
  },
  {
   "cell_type": "code",
   "execution_count": 11,
   "id": "c560ed12",
   "metadata": {},
   "outputs": [
    {
     "name": "stdout",
     "output_type": "stream",
     "text": [
      "2.5\n"
     ]
    }
   ],
   "source": [
    "print(5/2.0)"
   ]
  },
  {
   "cell_type": "markdown",
   "id": "b7f65368",
   "metadata": {},
   "source": [
    "## 3.3 Other operations"
   ]
  },
  {
   "cell_type": "code",
   "execution_count": 12,
   "id": "c4aeb6f2",
   "metadata": {},
   "outputs": [
    {
     "name": "stdout",
     "output_type": "stream",
     "text": [
      "3\n",
      "10\n",
      "25\n"
     ]
    }
   ],
   "source": [
    "print(5-2) # subtraction\n",
    "print(5*2) # multiplication\n",
    "print(5**2) # power"
   ]
  },
  {
   "cell_type": "markdown",
   "id": "a613423d",
   "metadata": {},
   "source": [
    "## 3.4 Switching between formats"
   ]
  },
  {
   "cell_type": "code",
   "execution_count": 13,
   "id": "23a030d2",
   "metadata": {},
   "outputs": [
    {
     "name": "stdout",
     "output_type": "stream",
     "text": [
      "5.0\n"
     ]
    }
   ],
   "source": [
    "print(float(5))"
   ]
  },
  {
   "cell_type": "code",
   "execution_count": 14,
   "id": "96f653bc",
   "metadata": {},
   "outputs": [
    {
     "name": "stdout",
     "output_type": "stream",
     "text": [
      "7\n"
     ]
    }
   ],
   "source": [
    "print(int(7.0))"
   ]
  },
  {
   "cell_type": "markdown",
   "id": "a3d3318c",
   "metadata": {},
   "source": [
    "## 3.5 String \"arithmetic\""
   ]
  },
  {
   "cell_type": "markdown",
   "id": "3ed591c0",
   "metadata": {},
   "source": [
    "We can concatenate strings by \"adding\" them"
   ]
  },
  {
   "cell_type": "code",
   "execution_count": 15,
   "id": "18f6d1ad",
   "metadata": {},
   "outputs": [
    {
     "name": "stdout",
     "output_type": "stream",
     "text": [
      "hello\n",
      "world\n",
      "hello world\n"
     ]
    }
   ],
   "source": [
    "print(\"hello\")\n",
    "print(\"world\")\n",
    "print(\"hello \" + \"world\")"
   ]
  },
  {
   "cell_type": "markdown",
   "id": "f0d46a5b",
   "metadata": {},
   "source": [
    "or even multiply them"
   ]
  },
  {
   "cell_type": "code",
   "execution_count": 16,
   "id": "46aea6eb",
   "metadata": {},
   "outputs": [
    {
     "name": "stdout",
     "output_type": "stream",
     "text": [
      "hello hello hello hello hello \n"
     ]
    }
   ],
   "source": [
    "print(5 * \"hello \")"
   ]
  },
  {
   "cell_type": "markdown",
   "id": "4128ede6",
   "metadata": {},
   "source": [
    "# 4 Variables"
   ]
  },
  {
   "cell_type": "markdown",
   "id": "7a7bd679",
   "metadata": {},
   "source": [
    "variable assignment works with `=`"
   ]
  },
  {
   "cell_type": "code",
   "execution_count": 17,
   "id": "d6531d79",
   "metadata": {},
   "outputs": [
    {
     "name": "stdout",
     "output_type": "stream",
     "text": [
      "hello world\n"
     ]
    }
   ],
   "source": [
    "a = 'hello'\n",
    "b = ' world'\n",
    "print(a+b)"
   ]
  },
  {
   "cell_type": "code",
   "execution_count": 18,
   "id": "25d391e7",
   "metadata": {},
   "outputs": [],
   "source": [
    "a = 1"
   ]
  },
  {
   "cell_type": "code",
   "execution_count": 19,
   "id": "9a4a3af2",
   "metadata": {},
   "outputs": [
    {
     "name": "stdout",
     "output_type": "stream",
     "text": [
      "1\n"
     ]
    }
   ],
   "source": [
    "print(a)"
   ]
  },
  {
   "cell_type": "code",
   "execution_count": 20,
   "id": "c6444bb9",
   "metadata": {},
   "outputs": [],
   "source": [
    "a = a + 2"
   ]
  },
  {
   "cell_type": "code",
   "execution_count": 21,
   "id": "64532fa6",
   "metadata": {},
   "outputs": [
    {
     "name": "stdout",
     "output_type": "stream",
     "text": [
      "3\n"
     ]
    }
   ],
   "source": [
    "print(a)"
   ]
  },
  {
   "cell_type": "code",
   "execution_count": 22,
   "id": "b0019ae5",
   "metadata": {},
   "outputs": [],
   "source": [
    "a += 2"
   ]
  },
  {
   "cell_type": "code",
   "execution_count": 23,
   "id": "32d249ad",
   "metadata": {},
   "outputs": [
    {
     "name": "stdout",
     "output_type": "stream",
     "text": [
      "5\n"
     ]
    }
   ],
   "source": [
    "print(a)"
   ]
  },
  {
   "cell_type": "markdown",
   "id": "943bb35c",
   "metadata": {},
   "source": [
    "# 5 Boolean types and logical operations"
   ]
  },
  {
   "cell_type": "code",
   "execution_count": 24,
   "id": "34c231a6",
   "metadata": {},
   "outputs": [],
   "source": [
    "a = 1"
   ]
  },
  {
   "cell_type": "code",
   "execution_count": 25,
   "id": "658fbdc5",
   "metadata": {},
   "outputs": [
    {
     "name": "stdout",
     "output_type": "stream",
     "text": [
      "True\n"
     ]
    }
   ],
   "source": [
    "print(a==a)"
   ]
  },
  {
   "cell_type": "code",
   "execution_count": 26,
   "id": "39a3339c",
   "metadata": {},
   "outputs": [
    {
     "name": "stdout",
     "output_type": "stream",
     "text": [
      "True\n"
     ]
    }
   ],
   "source": [
    "print(2>1)"
   ]
  },
  {
   "cell_type": "code",
   "execution_count": 27,
   "id": "19bfd5bf",
   "metadata": {},
   "outputs": [
    {
     "name": "stdout",
     "output_type": "stream",
     "text": [
      "False\n"
     ]
    }
   ],
   "source": [
    "print(2>3)"
   ]
  },
  {
   "cell_type": "code",
   "execution_count": 28,
   "id": "e7d1bf90",
   "metadata": {},
   "outputs": [],
   "source": [
    "a = True\n",
    "b = False"
   ]
  },
  {
   "cell_type": "code",
   "execution_count": 29,
   "id": "d64dfb25",
   "metadata": {},
   "outputs": [
    {
     "name": "stdout",
     "output_type": "stream",
     "text": [
      "False\n"
     ]
    }
   ],
   "source": [
    "print(a and b)"
   ]
  },
  {
   "cell_type": "code",
   "execution_count": 30,
   "id": "4e875589",
   "metadata": {},
   "outputs": [
    {
     "name": "stdout",
     "output_type": "stream",
     "text": [
      "True\n"
     ]
    }
   ],
   "source": [
    "print(a or b)"
   ]
  },
  {
   "cell_type": "code",
   "execution_count": 31,
   "id": "bd431c87",
   "metadata": {},
   "outputs": [
    {
     "name": "stdout",
     "output_type": "stream",
     "text": [
      "False\n"
     ]
    }
   ],
   "source": [
    "print(not a)"
   ]
  },
  {
   "cell_type": "markdown",
   "id": "fa0664b2",
   "metadata": {},
   "source": [
    "# 6 Lists and subsetting"
   ]
  },
  {
   "cell_type": "markdown",
   "id": "8766c472",
   "metadata": {},
   "source": [
    "## 6.1 Basics"
   ]
  },
  {
   "cell_type": "code",
   "execution_count": 6,
   "id": "85cde5b8",
   "metadata": {},
   "outputs": [],
   "source": [
    "a = ['one', 3, 2, 'five']"
   ]
  },
  {
   "cell_type": "code",
   "execution_count": 7,
   "id": "fda09c29",
   "metadata": {},
   "outputs": [
    {
     "name": "stdout",
     "output_type": "stream",
     "text": [
      "['one', 3, 2, 'five']\n"
     ]
    }
   ],
   "source": [
    "print(a)"
   ]
  },
  {
   "cell_type": "markdown",
   "id": "6ffeab72",
   "metadata": {},
   "source": [
    "lists are sub-settable"
   ]
  },
  {
   "cell_type": "code",
   "execution_count": 34,
   "id": "c8215e77",
   "metadata": {},
   "outputs": [
    {
     "name": "stdout",
     "output_type": "stream",
     "text": [
      "3\n"
     ]
    }
   ],
   "source": [
    "print(a[1])"
   ]
  },
  {
   "cell_type": "markdown",
   "id": "df91f905",
   "metadata": {},
   "source": [
    "python uses zero-indexing!"
   ]
  },
  {
   "cell_type": "code",
   "execution_count": 35,
   "id": "9e45a173",
   "metadata": {},
   "outputs": [
    {
     "name": "stdout",
     "output_type": "stream",
     "text": [
      "one\n"
     ]
    }
   ],
   "source": [
    "print(a[0])"
   ]
  },
  {
   "cell_type": "markdown",
   "id": "22322f05",
   "metadata": {},
   "source": [
    "## 6.2 Sub-setting strings"
   ]
  },
  {
   "cell_type": "markdown",
   "id": "6ccb4050",
   "metadata": {},
   "source": [
    "now that we are at it, lists are also sub-settable. To subset a range, specify the position of the first character, a colon, then one more than the position of the last character. "
   ]
  },
  {
   "cell_type": "code",
   "execution_count": 5,
   "id": "a42865c4",
   "metadata": {},
   "outputs": [],
   "source": [
    "b = 'hello world'"
   ]
  },
  {
   "cell_type": "code",
   "execution_count": 2,
   "id": "3a6c830f",
   "metadata": {},
   "outputs": [
    {
     "name": "stdout",
     "output_type": "stream",
     "text": [
      "he\n"
     ]
    }
   ],
   "source": [
    "print(b[0:2])"
   ]
  },
  {
   "cell_type": "code",
   "execution_count": 3,
   "id": "c17d4973",
   "metadata": {},
   "outputs": [
    {
     "name": "stdout",
     "output_type": "stream",
     "text": [
      "hello\n"
     ]
    }
   ],
   "source": [
    "print(b[0:5])"
   ]
  },
  {
   "cell_type": "markdown",
   "id": "4df8bd7d",
   "metadata": {},
   "source": [
    "## 6.3 Appending lists"
   ]
  },
  {
   "cell_type": "code",
   "execution_count": 8,
   "id": "518c54db",
   "metadata": {},
   "outputs": [],
   "source": [
    "b = a + [4]"
   ]
  },
  {
   "cell_type": "code",
   "execution_count": 9,
   "id": "f56d4863",
   "metadata": {},
   "outputs": [
    {
     "name": "stdout",
     "output_type": "stream",
     "text": [
      "['one', 3, 2, 'five', 4]\n"
     ]
    }
   ],
   "source": [
    "print(b)"
   ]
  },
  {
   "cell_type": "code",
   "execution_count": 10,
   "id": "288cc103",
   "metadata": {},
   "outputs": [],
   "source": [
    "a.append(4)"
   ]
  },
  {
   "cell_type": "code",
   "execution_count": 11,
   "id": "7bc0a487",
   "metadata": {},
   "outputs": [
    {
     "name": "stdout",
     "output_type": "stream",
     "text": [
      "['one', 3, 2, 'five', 4]\n"
     ]
    }
   ],
   "source": [
    "print(a)"
   ]
  },
  {
   "cell_type": "markdown",
   "id": "431b5a53",
   "metadata": {},
   "source": [
    "## 6.4 Nested lists"
   ]
  },
  {
   "cell_type": "code",
   "execution_count": 12,
   "id": "cd89a532",
   "metadata": {},
   "outputs": [
    {
     "name": "stdout",
     "output_type": "stream",
     "text": [
      "['one', 3, 2, 'five', 4, [1, 2, 3]]\n"
     ]
    }
   ],
   "source": [
    "a.append([1,2,3])\n",
    "print(a)"
   ]
  },
  {
   "cell_type": "markdown",
   "id": "cafb1989",
   "metadata": {},
   "source": [
    "## 6.5 References and values"
   ]
  },
  {
   "cell_type": "code",
   "execution_count": 13,
   "id": "e3bcd6d7",
   "metadata": {},
   "outputs": [],
   "source": [
    "a = [1, 2]"
   ]
  },
  {
   "cell_type": "code",
   "execution_count": 14,
   "id": "8823b6ca",
   "metadata": {},
   "outputs": [],
   "source": [
    "b = a"
   ]
  },
  {
   "cell_type": "code",
   "execution_count": 15,
   "id": "fb6968f0",
   "metadata": {},
   "outputs": [],
   "source": [
    "a.append(3)"
   ]
  },
  {
   "cell_type": "code",
   "execution_count": 16,
   "id": "2e79911f",
   "metadata": {},
   "outputs": [
    {
     "name": "stdout",
     "output_type": "stream",
     "text": [
      "[1, 2, 3]\n"
     ]
    }
   ],
   "source": [
    "print(b)"
   ]
  },
  {
   "cell_type": "code",
   "execution_count": 17,
   "id": "2a86340d",
   "metadata": {},
   "outputs": [],
   "source": [
    "a = [1, 2]"
   ]
  },
  {
   "cell_type": "code",
   "execution_count": 18,
   "id": "f32939c6",
   "metadata": {},
   "outputs": [],
   "source": [
    "b = a[:]"
   ]
  },
  {
   "cell_type": "code",
   "execution_count": 19,
   "id": "b7db4815",
   "metadata": {},
   "outputs": [],
   "source": [
    "a.append(3)"
   ]
  },
  {
   "cell_type": "code",
   "execution_count": 20,
   "id": "d17fcb1e",
   "metadata": {},
   "outputs": [
    {
     "name": "stdout",
     "output_type": "stream",
     "text": [
      "[1, 2]\n"
     ]
    }
   ],
   "source": [
    "print(b)"
   ]
  },
  {
   "cell_type": "markdown",
   "id": "dd3c7933",
   "metadata": {},
   "source": [
    "alternatively to `b = a[:]` and less cryptically, we can also write"
   ]
  },
  {
   "cell_type": "code",
   "execution_count": 21,
   "id": "bfb24dcd",
   "metadata": {},
   "outputs": [],
   "source": [
    "b = a.copy()"
   ]
  },
  {
   "cell_type": "markdown",
   "id": "35e4657d",
   "metadata": {},
   "source": [
    "## 7 Dictionaries"
   ]
  },
  {
   "cell_type": "code",
   "execution_count": 22,
   "id": "6cfe8408",
   "metadata": {},
   "outputs": [],
   "source": [
    "a = {\"hello\": 1, \n",
    "     \"anteaters\": \"are great\",\n",
    "     5: \"stuff\"}"
   ]
  },
  {
   "cell_type": "code",
   "execution_count": 23,
   "id": "853e64b4",
   "metadata": {},
   "outputs": [
    {
     "name": "stdout",
     "output_type": "stream",
     "text": [
      "stuff\n"
     ]
    }
   ],
   "source": [
    "print(a[5])"
   ]
  },
  {
   "cell_type": "code",
   "execution_count": 24,
   "id": "ae85fc4a",
   "metadata": {},
   "outputs": [
    {
     "name": "stdout",
     "output_type": "stream",
     "text": [
      "1\n"
     ]
    }
   ],
   "source": [
    "print(a['hello'])"
   ]
  },
  {
   "cell_type": "code",
   "execution_count": 27,
   "id": "88010cd7",
   "metadata": {},
   "outputs": [],
   "source": [
    "# print(a['stuff'])"
   ]
  },
  {
   "cell_type": "code",
   "execution_count": 28,
   "id": "15a63bbd",
   "metadata": {},
   "outputs": [],
   "source": [
    "a['newkey'] = 'newval'"
   ]
  },
  {
   "cell_type": "code",
   "execution_count": 29,
   "id": "6fa8ae8d",
   "metadata": {},
   "outputs": [
    {
     "name": "stdout",
     "output_type": "stream",
     "text": [
      "{'hello': 1, 'anteaters': 'are great', 5: 'stuff', 'newkey': 'newval'}\n"
     ]
    }
   ],
   "source": [
    "print(a)"
   ]
  },
  {
   "cell_type": "code",
   "execution_count": 30,
   "id": "bf75a6a9",
   "metadata": {},
   "outputs": [
    {
     "name": "stdout",
     "output_type": "stream",
     "text": [
      "dict_values([1, 'are great', 'stuff', 'newval'])\n"
     ]
    }
   ],
   "source": [
    "print(a.values())"
   ]
  },
  {
   "cell_type": "code",
   "execution_count": 31,
   "id": "143a1010",
   "metadata": {},
   "outputs": [
    {
     "name": "stdout",
     "output_type": "stream",
     "text": [
      "dict_keys(['hello', 'anteaters', 5, 'newkey'])\n"
     ]
    }
   ],
   "source": [
    "print(a.keys())"
   ]
  },
  {
   "cell_type": "code",
   "execution_count": 32,
   "id": "179e225a",
   "metadata": {},
   "outputs": [
    {
     "name": "stdout",
     "output_type": "stream",
     "text": [
      "dict_items([('hello', 1), ('anteaters', 'are great'), (5, 'stuff'), ('newkey', 'newval')])\n"
     ]
    }
   ],
   "source": [
    "print(a.items())"
   ]
  },
  {
   "cell_type": "markdown",
   "id": "3590fd21",
   "metadata": {},
   "source": [
    "note that the latter returns a list of **tuples**, which are like lists, but **immutable**"
   ]
  },
  {
   "cell_type": "markdown",
   "id": "5603a401",
   "metadata": {},
   "source": [
    "# 8 Flow control"
   ]
  },
  {
   "cell_type": "markdown",
   "id": "847b8e7e",
   "metadata": {},
   "source": [
    "we can use the `range()` function to create numerical lists quickly. Technically, `range()` returns a `generator` object, which we then have to pass to `list()` as an argument to make a list. "
   ]
  },
  {
   "cell_type": "markdown",
   "id": "078a7dcd",
   "metadata": {},
   "source": [
    "## 8.1 `range`"
   ]
  },
  {
   "cell_type": "code",
   "execution_count": 33,
   "id": "373855f1",
   "metadata": {},
   "outputs": [],
   "source": [
    "a = range(10)"
   ]
  },
  {
   "cell_type": "code",
   "execution_count": 34,
   "id": "cdf69c4c",
   "metadata": {},
   "outputs": [
    {
     "name": "stdout",
     "output_type": "stream",
     "text": [
      "range(0, 10)\n"
     ]
    }
   ],
   "source": [
    "print(a)"
   ]
  },
  {
   "cell_type": "code",
   "execution_count": 35,
   "id": "158d3e39",
   "metadata": {},
   "outputs": [
    {
     "name": "stdout",
     "output_type": "stream",
     "text": [
      "[0, 1, 2, 3, 4, 5, 6, 7, 8, 9]\n"
     ]
    }
   ],
   "source": [
    "print(list(a))"
   ]
  },
  {
   "cell_type": "markdown",
   "id": "40686a2a",
   "metadata": {},
   "source": [
    "## 8.2 `for`-loops"
   ]
  },
  {
   "cell_type": "code",
   "execution_count": 36,
   "id": "5ebda1db",
   "metadata": {},
   "outputs": [
    {
     "name": "stdout",
     "output_type": "stream",
     "text": [
      "0\n",
      "1\n",
      "2\n",
      "3\n",
      "4\n",
      "5\n",
      "6\n",
      "7\n",
      "8\n",
      "9\n"
     ]
    }
   ],
   "source": [
    "for k in a:\n",
    "    print(k)"
   ]
  },
  {
   "cell_type": "code",
   "execution_count": 37,
   "id": "4adeff30",
   "metadata": {},
   "outputs": [
    {
     "name": "stdout",
     "output_type": "stream",
     "text": [
      "python\n",
      "is\n",
      "so\n",
      "easy\n",
      "!\n"
     ]
    }
   ],
   "source": [
    "a = ['python', 'is', 'so', 'easy', '!']\n",
    "for k in a:\n",
    "    print(k)"
   ]
  },
  {
   "cell_type": "markdown",
   "id": "6038f35a",
   "metadata": {},
   "source": [
    "## 8.3 `while`-loops"
   ]
  },
  {
   "cell_type": "code",
   "execution_count": 38,
   "id": "74917bf7",
   "metadata": {},
   "outputs": [
    {
     "name": "stdout",
     "output_type": "stream",
     "text": [
      "0\n",
      "1\n",
      "2\n",
      "3\n",
      "4\n",
      "5\n",
      "6\n",
      "7\n",
      "8\n",
      "9\n"
     ]
    }
   ],
   "source": [
    "k = 0\n",
    "while k < 10:\n",
    "    print(k)\n",
    "    k += 1"
   ]
  },
  {
   "cell_type": "markdown",
   "id": "e7147454",
   "metadata": {},
   "source": [
    "## 8.4 `if-else`"
   ]
  },
  {
   "cell_type": "code",
   "execution_count": 39,
   "id": "dee2564e",
   "metadata": {},
   "outputs": [
    {
     "name": "stdout",
     "output_type": "stream",
     "text": [
      "0 is divisible by 2 and by 3\n",
      "1 is neither divisible by 2 nor by 3\n",
      "2 is divisible by 2\n",
      "3 is divisible by 3\n",
      "4 is divisible by 2\n",
      "5 is neither divisible by 2 nor by 3\n",
      "6 is divisible by 2 and by 3\n",
      "7 is neither divisible by 2 nor by 3\n",
      "8 is divisible by 2\n",
      "9 is divisible by 3\n"
     ]
    }
   ],
   "source": [
    "k = 0\n",
    "while k < 10:\n",
    "    if k%2 == 0 and k%3 == 0:\n",
    "        print(\"%s is divisible by 2 and by 3\" % k)\n",
    "    elif k%2 == 0:\n",
    "        print(\"%d is divisible by 2\" % k)\n",
    "    elif k%3 == 0:\n",
    "        print(\"{} is divisible by 3\".format(k))\n",
    "    else:\n",
    "        print(f\"{k} is neither divisible by 2 nor by 3\")\n",
    "    k += 1"
   ]
  },
  {
   "cell_type": "markdown",
   "id": "ff31f192",
   "metadata": {},
   "source": [
    "Note the different ways we have used to do string-insertion."
   ]
  },
  {
   "cell_type": "markdown",
   "id": "5394a7ac",
   "metadata": {},
   "source": [
    "## 8.5 `enumerate`"
   ]
  },
  {
   "cell_type": "markdown",
   "id": "ec04b41d",
   "metadata": {},
   "source": [
    "here is how to do \"standard\" loops where you refer to an element of a list with an index but with a \"pythonic\" twist using the `enumerate()` method"
   ]
  },
  {
   "cell_type": "code",
   "execution_count": 42,
   "id": "674d1f90",
   "metadata": {},
   "outputs": [],
   "source": [
    "a2 = ['one', 'two', 'three', 'four', 'five']"
   ]
  },
  {
   "cell_type": "code",
   "execution_count": 43,
   "id": "50c48a11",
   "metadata": {},
   "outputs": [
    {
     "name": "stdout",
     "output_type": "stream",
     "text": [
      "0 python python one\n",
      "1 is is two\n",
      "2 so so three\n",
      "3 easy easy four\n",
      "4 ! ! five\n"
     ]
    }
   ],
   "source": [
    "for idx, el in enumerate(a):\n",
    "    print(idx, el, a[idx], a2[idx])"
   ]
  },
  {
   "cell_type": "markdown",
   "id": "c84d8a35",
   "metadata": {},
   "source": [
    "# 9 Functions"
   ]
  },
  {
   "cell_type": "markdown",
   "id": "4f22ebf1",
   "metadata": {},
   "source": [
    "Functions are defined with the `def` keyword and return values specified after `return`"
   ]
  },
  {
   "cell_type": "code",
   "execution_count": 46,
   "id": "3bcbbd9d",
   "metadata": {},
   "outputs": [],
   "source": [
    "def add_two(x):\n",
    "    return x + 2"
   ]
  },
  {
   "cell_type": "code",
   "execution_count": 47,
   "id": "fe108cbb",
   "metadata": {},
   "outputs": [
    {
     "data": {
      "text/plain": [
       "7"
      ]
     },
     "execution_count": 47,
     "metadata": {},
     "output_type": "execute_result"
    }
   ],
   "source": [
    "add_two(5)"
   ]
  },
  {
   "cell_type": "markdown",
   "id": "398606bf",
   "metadata": {},
   "source": [
    "Functions need not have arguments"
   ]
  },
  {
   "cell_type": "code",
   "execution_count": 48,
   "id": "1f15a17a",
   "metadata": {},
   "outputs": [],
   "source": [
    "def hello():\n",
    "    print('hello')"
   ]
  },
  {
   "cell_type": "code",
   "execution_count": 49,
   "id": "af21656f",
   "metadata": {},
   "outputs": [
    {
     "name": "stdout",
     "output_type": "stream",
     "text": [
      "hello\n"
     ]
    }
   ],
   "source": [
    "hello()"
   ]
  },
  {
   "cell_type": "markdown",
   "id": "e3f6a74b",
   "metadata": {},
   "source": [
    "# 10 Objects, Classes, Attributes and Methods"
   ]
  },
  {
   "cell_type": "markdown",
   "id": "51177471",
   "metadata": {},
   "source": [
    "Everything in Python is an **object**. Python is an example of an \"object oriented\" programming language. OOP revolves around things called **classes**, which can be thought of as blueprints for making particular instances of themselves. \n",
    "\n",
    "Let's see an example (taken from Jeff Knupp): https://github.com/jeffknupp/blog/blob/master/content/2017-03-27-improve-your-python-python-classes-and-object-oriented-programming.md"
   ]
  },
  {
   "cell_type": "code",
   "execution_count": 50,
   "id": "19ef95ad",
   "metadata": {},
   "outputs": [],
   "source": [
    "class Account(object):\n",
    "\n",
    "    '''\n",
    "    Class for bank account objects. Each account object has attributes\n",
    "        - a name: a string with the name of the customer\n",
    "        - a balance: a float tracking how much money the customer has in the bank\n",
    "    We will also write two methods:\n",
    "        - deposit\n",
    "        - withdraw\n",
    "    '''\n",
    "\n",
    "    def __init__(self, name, balance=0):\n",
    "        self.name = name\n",
    "        self.balance = balance\n",
    "\n",
    "    def deposit(self, amount):\n",
    "        self.balance += amount\n",
    "\n",
    "    def withdraw(self, amount):\n",
    "        if self.balance >= amount:\n",
    "            self.balance -= amount\n",
    "        else:\n",
    "            print('insufficient funds')"
   ]
  },
  {
   "cell_type": "code",
   "execution_count": 51,
   "id": "1371064b",
   "metadata": {},
   "outputs": [],
   "source": [
    "sebs_account = Account('seb', 1000)"
   ]
  },
  {
   "cell_type": "code",
   "execution_count": 52,
   "id": "d10b1742",
   "metadata": {},
   "outputs": [
    {
     "data": {
      "text/plain": [
       "'seb'"
      ]
     },
     "execution_count": 52,
     "metadata": {},
     "output_type": "execute_result"
    }
   ],
   "source": [
    "sebs_account.name"
   ]
  },
  {
   "cell_type": "code",
   "execution_count": 53,
   "id": "50b84b37",
   "metadata": {},
   "outputs": [
    {
     "data": {
      "text/plain": [
       "1000"
      ]
     },
     "execution_count": 53,
     "metadata": {},
     "output_type": "execute_result"
    }
   ],
   "source": [
    "sebs_account.balance"
   ]
  },
  {
   "cell_type": "code",
   "execution_count": 54,
   "id": "6ddea482",
   "metadata": {},
   "outputs": [],
   "source": [
    "sebs_account.deposit(1000)"
   ]
  },
  {
   "cell_type": "code",
   "execution_count": 55,
   "id": "bb4221dc",
   "metadata": {},
   "outputs": [
    {
     "data": {
      "text/plain": [
       "2000"
      ]
     },
     "execution_count": 55,
     "metadata": {},
     "output_type": "execute_result"
    }
   ],
   "source": [
    "sebs_account.balance"
   ]
  },
  {
   "cell_type": "code",
   "execution_count": 56,
   "id": "063c3755",
   "metadata": {},
   "outputs": [
    {
     "name": "stdout",
     "output_type": "stream",
     "text": [
      "insufficient funds\n"
     ]
    }
   ],
   "source": [
    "sebs_account.withdraw(5000)"
   ]
  },
  {
   "cell_type": "code",
   "execution_count": 57,
   "id": "de15d236",
   "metadata": {},
   "outputs": [],
   "source": [
    "sebs_account.withdraw(500)"
   ]
  },
  {
   "cell_type": "code",
   "execution_count": 58,
   "id": "d7620cb6",
   "metadata": {},
   "outputs": [
    {
     "data": {
      "text/plain": [
       "1500"
      ]
     },
     "execution_count": 58,
     "metadata": {},
     "output_type": "execute_result"
    }
   ],
   "source": [
    "sebs_account.balance"
   ]
  }
 ],
 "metadata": {
  "kernelspec": {
   "display_name": "Python 3",
   "language": "python",
   "name": "python3"
  },
  "language_info": {
   "codemirror_mode": {
    "name": "ipython",
    "version": 3
   },
   "file_extension": ".py",
   "mimetype": "text/x-python",
   "name": "python",
   "nbconvert_exporter": "python",
   "pygments_lexer": "ipython3",
   "version": "3.11.8"
  }
 },
 "nbformat": 4,
 "nbformat_minor": 5
}
